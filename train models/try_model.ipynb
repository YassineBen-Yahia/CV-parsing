{
 "cells": [
  {
   "cell_type": "markdown",
   "id": "bd5b9fcb",
   "metadata": {},
   "source": [
    "# Resume Entity Extraction Demo\n",
    "This notebook demonstrates how to use a spaCy transformer-based model to extract entities from resume text and PDF files.\n",
    "\n",
    "## Steps:\n",
    "1. Load the spaCy model trained on resume data.\n",
    "2. Test the model on a sample resume text string.\n",
    "3. Parse a PDF resume and extract entities.\n",
    "4. Visualize the extracted entities."
   ]
  },
  {
   "cell_type": "markdown",
   "id": "78194c3e",
   "metadata": {},
   "source": [
    "fhfhf\n"
   ]
  },
  {
   "cell_type": "code",
   "execution_count": 9,
   "id": "2170fa11",
   "metadata": {},
   "outputs": [],
   "source": [
    "import spacy\n",
    "from pathlib import Path\n",
    "import pymupdf\n",
    "import sys, fitz"
   ]
  },
  {
   "cell_type": "markdown",
   "id": "75311dc3",
   "metadata": {},
   "source": [
    "## 1. Import Required Libraries\n",
    "We import spaCy, pathlib, and PDF parsing libraries for entity extraction and file handling."
   ]
  },
  {
   "cell_type": "code",
   "execution_count": 16,
   "id": "d510d15e",
   "metadata": {},
   "outputs": [],
   "source": [
    "TXT = \"Harini Komaravelli Test Analyst at Oracle, Hyderabad  Hyderabad, Telangana - Email me on Indeed: indeed.com/r/Harini- Komaravelli/2659eee82e435d1b  ➢ 6 Yrs. of IT Experience in Manual and Automation testing.  WORK EXPERIENCE  QA Analyst  Oracle  Test Analyst at Oracle, Hyderabad  Infosys Ltd -  Hyderabad, Telangana -  November 2011 to February 2016  Hyderabad from Nov 2011 to Feb17 2016 ➢ Worked in Tata Consultancy Services, Hyderabad from Feb 24 to Apr 11 2017 ➢ Currently working as a Test Analyst at Oracle, Hyderabad  QA Analyst with 6 years of IT experience  Oracle  EDUCATION  MCA  Osmania University  B.Sc. in Computer Science  Osmania University  SKILLS  Functional Testing, Blue Prism, Qtp  ADDITIONAL INFORMATION  Area of Expertise:  ➢ Familiar with Agile Methodologies. ➢ Having knowledge in Energy (Petroleum) & Health Care domains. ➢ Involved in preparation of Test Scenarios. ➢ Preparing Test Data for the test cases.  https://www.indeed.com/r/Harini-Komaravelli/2659eee82e435d1b?isid=rex-download&ikw=download-top&co=IN https://www.indeed.com/r/Harini-Komaravelli/2659eee82e435d1b?isid=rex-download&ikw=download-top&co=IN   ➢ Experienced in development and execution of Test cases effectively. ➢ Experienced in Functional testing, GUI testing, Smoke testing, Regression testing and Integration Testing ➢ Experienced in doing Accessibility testing of an application ➢ Ability to understand user Requirements, Functional and Design specifications. ➢ Good knowledge of SDLC and STLC processes. ➢ Deciding the Severity and Priority of bugs. ➢ Experience in using Microsoft Test Manager & Oracle Test Manager as Test Management Tools. ➢ Having good experience in testing windows based & web based applications. ➢ Involved in Client Interactions for reviews, issues and for any clarifications. ➢ Web Services Testing ➢ Writing Test Scripts in QTP, Testcomplete. ➢ Creating Object Repositories and Function Libraries in QTP. ➢ Enhanced QTP scripts using VB Script. ➢ Strong experience in working with Blue Prism tool ➢ Worked on different Environments like Windows Application & Web Application  Technical Skills:  ❑ Test Automation Tools: Blue Prism, QTP 10.0, Testcomplete ❑ Test Management Tool: Microsoft Test Manager, Oracle Test Manager & JIRA ❑ Databases: Oracle 10g, SQL Server.  ❑ Operating Systems: Windows 7  Project 1: Title: Cadence Client: Baker Hughes  Technologies: Microsoft Visual Studio and Microsoft Team Foundation Server  Client Background: An oilfield services company delivering focused efforts on shale gas and other oilfield services. It provides services, tools and software for drilling and formation evaluation, well completion, production management, seismic data collection and interpretation.  Project Description: AUT (Application under test) is the next generation revolutionary, robust, easy to use scalable well site data acquisition processing and interpretation system for Client's Drilling Services to deliver services that meets cross divisional business requirements consistently.  Project 2:  Description: Paragon supports your entire care team with one tool that your clinicians need to help deliver the best patient care. Designed by physicians, nurses, pharmacists and mid level providers that have a first-hand understanding of clinical workflow needs, Paragon clinical applications allow your caregivers to focus on what matters most; spending time caring for patients. Since Paragon is fully-integrated across all applications and built around a single patient database, information    entered anywhere in the system is immediately available to the entire care team. Immediate access not only helps clinicians make better treatment decisions - it also helps promote patient safety. Paragon offers a broad suite of multidisciplinary clinical software solutions together with anytime, anywhere access to the complete patient record.  Responsibilities:  • Performed Smoke testing and Regression testing. • Involved in Generating and Executing Test Script using Quick Test Pro & Blue Prism • Usability and User Interface Testing. • Involved in Defect tracking and reporting the bugs using TFS • Participated in frequent walk-through meetings with Internal Quality Assurance groups and with development groups. • Participated in client calls and clarifying the doubts by having AT&T sessions • Involved in functional, regression and smoke testing to validate the application data changes done in windows application • Certifying the build status by running the scripts as part of smoke testing  Project 3:  Description: Food & Beverages R&A: Easily manage business across multiple locations while reducing IT cost and complexity. Cloud-based point-of-sale (POS) solutions enable centralized enterprise management with lower upfront costs and a smaller footprint.  Responsibilities:  • Performed Functional testing and Regression testing. • Involved in Generating and Executing Test Scripts using Blue Prism tool and Open script • Involved in preparing bots using Blue Prism tool. • Accessibility testing of the web application • Involved in Defect tracking and reporting the bugs using JIRA • WebServices testing by calling API's to export the data\""
   ]
  },
  {
   "cell_type": "markdown",
   "id": "54282031",
   "metadata": {},
   "source": [
    "## 2. Define Sample Resume Text\n",
    "Here we define a sample resume text string to test the entity extraction model."
   ]
  },
  {
   "cell_type": "code",
   "execution_count": 6,
   "id": "0afd3e67",
   "metadata": {},
   "outputs": [
    {
     "name": "stderr",
     "output_type": "stream",
     "text": [
      "c:\\Users\\yby39\\anaconda3\\envs\\nlp\\Lib\\site-packages\\tqdm\\auto.py:21: TqdmWarning: IProgress not found. Please update jupyter and ipywidgets. See https://ipywidgets.readthedocs.io/en/stable/user_install.html\n",
      "  from .autonotebook import tqdm as notebook_tqdm\n"
     ]
    }
   ],
   "source": [
    "path=Path(r\"C:\\ML\\CV-Parsing\\transformer\\model-best\")\n",
    "# Load the best trained model\n",
    "nlp = spacy.load(path)"
   ]
  },
  {
   "cell_type": "markdown",
   "id": "3f687d05",
   "metadata": {},
   "source": [
    "## 3. Load the Trained spaCy Model\n",
    "We load the best transformer-based spaCy model trained for resume entity extraction."
   ]
  },
  {
   "cell_type": "code",
   "execution_count": 7,
   "id": "275ccb11",
   "metadata": {},
   "outputs": [
    {
     "name": "stdout",
     "output_type": "stream",
     "text": [
      "Harini Komaravelli Name\n",
      "Test Analyst Designation\n",
      "Oracle Companies worked at\n",
      "Hyderabad Location\n",
      "Hyderabad Location\n",
      "indeed.com/r/Harini- Komaravelli/2659eee82e435d1b Email Address\n",
      "Manual and Automation testing.  WORK EXPERIENCE  QA Analyst Designation\n",
      "Oracle Companies worked at\n",
      "Test Analyst Designation\n",
      "Oracle Companies worked at\n",
      "Hyderabad Location\n",
      "Hyderabad Location\n",
      "Hyderabad Location\n",
      "Hyderabad Location\n",
      "Test Analyst Designation\n",
      "Oracle Companies worked at\n",
      "Hyderabad Location\n",
      "QA Analyst Designation\n",
      "Oracle Companies worked at\n",
      "MCA Degree\n",
      "Osmania University College Name\n",
      "B.Sc. in Computer Science Degree\n",
      "Osmania University College Name\n",
      "Functional Testing, Blue Prism, Qtp Skills\n"
     ]
    }
   ],
   "source": [
    "doc = nlp(TXT)\n",
    "for ent in doc.ents:\n",
    "    print(ent.text, ent.label_)"
   ]
  },
  {
   "cell_type": "markdown",
   "id": "3217ff24",
   "metadata": {},
   "source": [
    "## 4. Extract Entities from Text\n",
    "Apply the loaded spaCy model to the sample resume text and print the detected entities and their labels."
   ]
  },
  {
   "cell_type": "markdown",
   "id": "04f8dace",
   "metadata": {},
   "source": [
    "## Parsing a PDF File"
   ]
  },
  {
   "cell_type": "markdown",
   "id": "717178c4",
   "metadata": {},
   "source": [
    "## 5. Parse and Clean PDF Resume\n",
    "Read a PDF resume, extract and clean the text, and prepare it for entity extraction."
   ]
  },
  {
   "cell_type": "code",
   "execution_count": 14,
   "id": "7e9444e0",
   "metadata": {},
   "outputs": [],
   "source": [
    "f=fitz.open(r\"C:\\ML\\CV-Parsing\\Data\\test\\Alice Clark CV.pdf\")\n",
    "text = \" \"\n",
    "for page in f:\n",
    "    text = text + str(page.get_text())\n",
    "text = text.strip()\n",
    "text = ' '.join(text.split())"
   ]
  },
  {
   "cell_type": "code",
   "execution_count": 15,
   "id": "5a430767",
   "metadata": {},
   "outputs": [
    {
     "name": "stdout",
     "output_type": "stream",
     "text": [
      "Alice Clark Name\n",
      "AI / Machine Learning Degree\n",
      "Delhi Location\n",
      "Microsoft Companies worked at\n",
      "Software Engineer Designation\n",
      "Microsoft Companies worked at\n",
      "Microsoft Companies worked at\n",
      "Microsoft Companies worked at\n",
      "Microsoft Companies worked at\n",
      "Microsoft Companies worked at\n",
      "Microsoft Companies worked at\n",
      "Microsoft Companies worked at\n",
      "Indian Institute of Technology College Name\n",
      "Machine Learning, Natural Language Processing, and Big Data Handling ADDITIONAL INFORMATION Professional Skills • Excellent analytical, problem solving, communication, knowledge transfer and interpersonal skills with ability to interact with individuals at all the levels • Quick learner and maintains cordial relationship with project manager and team members and good performer both in team and independent job environments • Positive attitude towards superiors &amp; peers • Supervised junior developers throughout project lifecycle and provided technical assistance Skills\n"
     ]
    }
   ],
   "source": [
    "doc = nlp(text)\n",
    "for ent in doc.ents:\n",
    "    print(ent.text, ent.label_)\n",
    "    "
   ]
  },
  {
   "cell_type": "markdown",
   "id": "b170c499",
   "metadata": {},
   "source": [
    "## 6. Extract Entities from PDF Resume\n",
    "Apply the spaCy model to the cleaned PDF resume text and print the detected entities and their labels."
   ]
  }
 ],
 "metadata": {
  "kernelspec": {
   "display_name": "nlp",
   "language": "python",
   "name": "python3"
  },
  "language_info": {
   "codemirror_mode": {
    "name": "ipython",
    "version": 3
   },
   "file_extension": ".py",
   "mimetype": "text/x-python",
   "name": "python",
   "nbconvert_exporter": "python",
   "pygments_lexer": "ipython3",
   "version": "3.12.11"
  }
 },
 "nbformat": 4,
 "nbformat_minor": 5
}
